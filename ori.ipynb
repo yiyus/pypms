{
 "cells": [
  {
   "cell_type": "code",
   "execution_count": 1,
   "id": "0606a073",
   "metadata": {},
   "outputs": [],
   "source": [
    "import numpy as np"
   ]
  },
  {
   "cell_type": "markdown",
   "id": "81040242",
   "metadata": {},
   "source": [
    "# Orientations\n",
    "\n",
    "We are interested in representing the orientation of crystals in 3D.\n",
    "\n",
    "## Rotation and orientation matrix\n",
    "\n",
    "A rotation matrix, when multiplied by a vector, results in the same vector rotated. An orientation matrix, when multiplied by a vector, results in the same vector in the rotated coordinate system. The orientation matrix (*passive rotation*) is the transpose of the corresponding rotation matrix (*active rotation*).\n",
    "\n",
    "It is trivial to define rotation or orientation matrices which express rotations in a plane. For example, we will calculate the rotation matrices for 60 degrees around the Z and X axes. First, we need the angle in radians:"
   ]
  },
  {
   "cell_type": "code",
   "execution_count": 2,
   "id": "3f18cc20",
   "metadata": {},
   "outputs": [
    {
     "name": "stdout",
     "output_type": "stream",
     "text": [
      "1.0471975511965976\n"
     ]
    }
   ],
   "source": [
    "def rad(a):\n",
    "    # a is the angle in degrees, returns angle in radians\n",
    "    return (a*np.pi)/180\n",
    "ang=rad(60) # rotation angle: 60 degrees\n",
    "print(ang)"
   ]
  },
  {
   "cell_type": "markdown",
   "id": "008a0e30",
   "metadata": {},
   "source": [
    "To find the rotation matrix, we take into account that the vector component parallel to the rotation axis must remain unchanged. The other components get multiplied by the sine or the cosine. Examples:"
   ]
  },
  {
   "cell_type": "code",
   "execution_count": 3,
   "id": "c0efb75e",
   "metadata": {},
   "outputs": [
    {
     "name": "stdout",
     "output_type": "stream",
     "text": [
      "[[ 0.5       -0.8660254  0.       ]\n",
      " [ 0.8660254  0.5        0.       ]\n",
      " [ 0.         0.         1.       ]]\n"
     ]
    }
   ],
   "source": [
    "# Rotation around axis Z (in the XY plane) with angle a in radians\n",
    "def rot_z(a):\n",
    "    c,s=np.cos(a),np.sin(a)\n",
    "    return np.array([[c,-s,0],[s,c,0],[0,0,1]])\n",
    "rz=rot_z(ang)\n",
    "print(rz)"
   ]
  },
  {
   "cell_type": "code",
   "execution_count": 4,
   "id": "8b2b4206",
   "metadata": {},
   "outputs": [
    {
     "name": "stdout",
     "output_type": "stream",
     "text": [
      "[[ 1.         0.         0.       ]\n",
      " [ 0.         0.5       -0.8660254]\n",
      " [ 0.         0.8660254  0.5      ]]\n"
     ]
    }
   ],
   "source": [
    "# Rotation around axis X (in the YZ plane) with angle a in radians\n",
    "def rot_x(a):\n",
    "    c,s=np.cos(a),np.sin(a)\n",
    "    return np.array([[1,0,0],[0,c,-s],[0,s,c]])\n",
    "rx=rot_x(ang)\n",
    "print(rx)"
   ]
  },
  {
   "cell_type": "markdown",
   "id": "a297b8ab",
   "metadata": {},
   "source": [
    "Transformation (or orientation) matrices are obtained transposing the rotation matrices."
   ]
  },
  {
   "cell_type": "code",
   "execution_count": 18,
   "id": "ecfd9375",
   "metadata": {},
   "outputs": [
    {
     "name": "stdout",
     "output_type": "stream",
     "text": [
      "[[ 0.5        0.8660254  0.       ]\n",
      " [-0.8660254  0.5        0.       ]\n",
      " [ 0.         0.         1.       ]]\n",
      "[[ 1.         0.         0.       ]\n",
      " [ 0.         0.5        0.8660254]\n",
      " [ 0.        -0.8660254  0.5      ]]\n"
     ]
    }
   ],
   "source": [
    "tz=np.transpose(rz)\n",
    "tx=np.transpose(rx)\n",
    "print(tz)\n",
    "print(tx)"
   ]
  },
  {
   "cell_type": "markdown",
   "id": "b0c2537d",
   "metadata": {},
   "source": [
    "It is useful to check that the properties of rotation matrices are fulfilled:"
   ]
  },
  {
   "cell_type": "code",
   "execution_count": 21,
   "id": "6845451e",
   "metadata": {},
   "outputs": [],
   "source": [
    "def test_Rzx():\n",
    "    rz,rx=rot_z(np.pi/2),rot_x(np.pi/2)\n",
    "    assert((1,1)==(np.linalg.det(rz),np.linalg.det(rx)))              # matrix determinant == 1\n",
    "    assert(np.isclose(np.identity(3),rz@np.transpose(rz)).all())      # matrix transpose == matrix inverse\n",
    "    assert(np.isclose(np.identity(3),rx@np.transpose(rx)).all())\n",
    "    assert(np.isclose(np.array([[0,-1,0],[1,0,0],[0,0,1]]),rz).all()) # matrix columns == rotated base vectors\n",
    "    assert(np.isclose(np.array([[1,0,0],[0,0,-1],[0,1,0]]),rx).all())\n",
    "test_Rzx()"
   ]
  },
  {
   "cell_type": "markdown",
   "id": "288b5a86",
   "metadata": {},
   "source": [
    "## Euler angles\n",
    "\n",
    "A triplet of Euler angles $(\\varphi_1,\\Phi,\\varphi_2)$ represents an orientation corresponding to three successive rotations with respect to a reference position. The first rotation is performed around the Z axis with an angle $\\varphi_1$. This results in the rotation of the axes X and Y, which will become X' and Y'. Next, a rotation with an angle $\\Phi$ is performed around the axis X', resulting in the rotation of the axes Y' and Z, which become Y'' and Z'. Finally, a rotation with angle $\\varphi_2$ is performed around the axis Z'.\n",
    "\n",
    "With three Euler angles, we can describe any orientation in 3D. However, an orientation can be represented by more than one set of Euler angles. As a trivial example, any two triplets of Euler angles for which $\\Phi$ is $0$ and $\\varphi_1+\\varphi_2$ is constant will represent the same orientation.\n",
    "\n",
    "### Orientation matrix from Euler angles\n",
    "\n",
    "The functions `rot_z` and `rot_x` previously defined can be used to define rotations around the Z and X axes. Moreover, rotations can be combined simply multiplying the corresponding matrices. Finally, we can convert a rotation matrix into an orientation matrix just transposing it. If we put everything together in a function, this function will return the orientation matrix corresponding to a triplet of Euler angles:"
   ]
  },
  {
   "cell_type": "code",
   "execution_count": 7,
   "id": "a976242d",
   "metadata": {},
   "outputs": [
    {
     "name": "stdout",
     "output_type": "stream",
     "text": [
      "[[ 0.27086608  0.95387879  0.12940952]\n",
      " [-0.94505974  0.23795296  0.22414387]\n",
      " [ 0.1830127  -0.1830127   0.96592583]]\n"
     ]
    }
   ],
   "source": [
    "def rot(ea):\n",
    "    # ea are the Euler angles as a numpy array of shape (3)\n",
    "    # return orientation matrix (numpy array of shape (3,3))\n",
    "    phi1,Phi,phi2=ea\n",
    "    r=rot_z(phi2)@rot_x(Phi)@rot_z(phi1)\n",
    "    return np.transpose(r)\n",
    "ea=[rad(a) for a in [30,15,45]]\n",
    "r=rot(ea)\n",
    "print(r)"
   ]
  },
  {
   "cell_type": "markdown",
   "id": "1402533a",
   "metadata": {},
   "source": [
    "## Axis and angle\n",
    "\n",
    "To calculate the angle of rotation we take into account that the trace of the rotation (or orientation) matrix, for an angle of rotation $\\theta$, must be equal to $1+2\\cos(\\theta)$. Therefore, to get the angle in degrees from a rotation matrix:"
   ]
  },
  {
   "cell_type": "code",
   "execution_count": 8,
   "id": "6ee63902",
   "metadata": {},
   "outputs": [
    {
     "name": "stdout",
     "output_type": "stream",
     "text": [
      "76.26848888646785\n"
     ]
    }
   ],
   "source": [
    "def ang(r):\n",
    "    # r is the orientation matrix (numpy array shape (3,3))\n",
    "    # returns angle in radians\n",
    "    return np.arccos((np.trace(r)-1)/2.)\n",
    "def deg(a):\n",
    "    # a is the angle in radians, returns angle in degrees\n",
    "    return (a*180)/np.pi\n",
    "print(deg(ang(r)))"
   ]
  },
  {
   "cell_type": "markdown",
   "id": "91db942e",
   "metadata": {},
   "source": [
    "[To find the axis](https://en.wikipedia.org/wiki/Rotation_matrix#Determining_the_axis), we take into account that rotating the vector that represents the axis must result in the same vector. This is equivalent to say that the skew-symmetric part of the rotation matrix (obtained as $1/2(R-R^T)$) corresponds to the components of the axis. We then use `norm` to normalize the obtained normal vector."
   ]
  },
  {
   "cell_type": "code",
   "execution_count": 9,
   "id": "5dd3593e",
   "metadata": {},
   "outputs": [
    {
     "name": "stdout",
     "output_type": "stream",
     "text": [
      "[0.22486246 0.18359943 0.95693685]\n"
     ]
    }
   ],
   "source": [
    "def norm(v):\n",
    "    # v is a vector (numpy array of 1D)\n",
    "    # returns normalized vector (such that \\v\\ is 1)\n",
    "    return v/(v*v).sum()**0.5\n",
    "def axis(r):\n",
    "    # r is an orientation matrix (numpy array of shape (3,3))\n",
    "    # returns the axis as numpy array of sahpe (3)\n",
    "    a=0.5*(r-np.transpose(r))\n",
    "    return norm(np.array([r[1,2],r[2,0],r[0,1]]))\n",
    "print(axis(r))"
   ]
  },
  {
   "cell_type": "markdown",
   "id": "70bca18c",
   "metadata": {},
   "source": [
    "**TODO** Calculate [rotation matrix from axis-angle](https://en.wikipedia.org/wiki/Rotation_matrix#Rotation_matrix_from_axis_and_angle)"
   ]
  },
  {
   "cell_type": "markdown",
   "id": "24b96988",
   "metadata": {},
   "source": [
    "## Miller indices\n",
    "\n",
    "To represent orientations using Miller indices we need a plane (its normal direction) and a direction in that plane.\n",
    "\n",
    "The orientation matrix and the corresponding Miller indices are easily correlated. The leftmost column is the normal to the plane, the rightmost column the direction. Both are perpendicular, and the third unitary vector must be perpendicular to both, so it is obtained using the vector cross product (see: [Texture Components and Euler Angles](http://pajarito.materials.cmu.edu/lectures/Components_EulerAngles-14Jan20.pdf)). We also normalize the vectors so that they are unitary. They should already be, but this way we mitigate any rounding error."
   ]
  },
  {
   "cell_type": "code",
   "execution_count": 10,
   "id": "127824c4",
   "metadata": {},
   "outputs": [
    {
     "name": "stdout",
     "output_type": "stream",
     "text": [
      "[0.12940952 0.22414387 0.96592583] [ 0.27086608 -0.94505974  0.1830127 ]\n"
     ]
    }
   ],
   "source": [
    "def miller(r):\n",
    "    # r is an orientation matrix (numpy array of shape (3,3))\n",
    "    # returns the Miller indices for plane normal and direction as two numpy arrays\n",
    "    return norm(r[:,2]),norm(r[:,0])\n",
    "hkl,uvw=miller(r)\n",
    "print(hkl,uvw)"
   ]
  },
  {
   "cell_type": "markdown",
   "id": "e15e60fb",
   "metadata": {},
   "source": [
    "Using this relationship, we can also find the rotation matrix from the Miller indices. We only need to normalize the normal and direction vectors and calculate their dot product. Additionally, we check that the direction must be on the plane (must be perpendicular to the plane normal)."
   ]
  },
  {
   "cell_type": "code",
   "execution_count": 23,
   "id": "bbca0719",
   "metadata": {},
   "outputs": [
    {
     "name": "stdout",
     "output_type": "stream",
     "text": [
      "[[ 0.          0.          1.        ]\n",
      " [ 0.70710678 -0.70710678  0.        ]\n",
      " [ 0.70710678  0.70710678  0.        ]]\n"
     ]
    }
   ],
   "source": [
    "def Rmiller(hkl,uvw):\n",
    "    # hkl is a numpy array of shape 3 with components of normal to plane\n",
    "    # uvw is a numpy array of shape 3 with components of direction\n",
    "    # returns orientation matrix as numpy array (3,3)\n",
    "    assert(0==np.dot(hkl,uvw)) # must be perpendicular\n",
    "    n,d=norm(np.array(hkl)),norm(np.array(uvw))\n",
    "    c=norm(np.cross(n,d))\n",
    "    return np.array([d,c,n])\n",
    "m=Rmiller([1,1,0],[0,0,1])\n",
    "print(m)"
   ]
  },
  {
   "cell_type": "markdown",
   "id": "14c6a2f0",
   "metadata": {},
   "source": [
    "# Symmetry\n",
    "\n",
    "Crystals usually present some form of symmetry. What this means is that they are invariant to certain rotations. For example, a cubic crystal structure (or any cube, for that matter) will present 24 equivalent orientations.\n",
    "\n",
    "#### Example\n",
    "\n",
    "If we can visualize three faces of a Rubik cube, we will see three different colors. Performing 90 degrees rotations around the faces of the cube, we can change these three colors. There will be a total of 24 different combinations of colors, which will correspond to the 24 equivalent orientations of cubic symmetry.\n",
    "\n",
    "## Symmetry operators\n",
    "\n",
    "### Cubic symmetry\n",
    "\n",
    "There are different ways in which we can represent the symmetry operators corresponding to cubic symmetry. Eventually, what we want are 24 orientation matrices.\n",
    "\n",
    "For example, using Miller indices, we can define the operators as the orientations corresponding to orienting each of the 6 faces of the cube parallel to the 001 direction and then considering, for each one, four perpendicular directions."
   ]
  },
  {
   "cell_type": "code",
   "execution_count": 12,
   "id": "32999d94",
   "metadata": {},
   "outputs": [
    {
     "name": "stdout",
     "output_type": "stream",
     "text": [
      "[[1. 0. 0.]\n",
      " [0. 1. 0.]\n",
      " [0. 0. 1.]]\n",
      "[[ 0.  1.  0.]\n",
      " [-1.  0.  0.]\n",
      " [ 0.  0.  1.]]\n",
      "[[-1.  0.  0.]\n",
      " [ 0. -1.  0.]\n",
      " [ 0.  0.  1.]]\n",
      "[[ 0. -1.  0.]\n",
      " [ 1.  0. -0.]\n",
      " [ 0.  0.  1.]]\n",
      "[[ 1.  0.  0.]\n",
      " [ 0.  0. -1.]\n",
      " [ 0.  1.  0.]]\n",
      "[[0. 0. 1.]\n",
      " [1. 0. 0.]\n",
      " [0. 1. 0.]]\n",
      "[[-1.  0.  0.]\n",
      " [ 0. -0.  1.]\n",
      " [ 0.  1.  0.]]\n",
      "[[ 0.  0. -1.]\n",
      " [-1.  0.  0.]\n",
      " [ 0.  1.  0.]]\n",
      "[[ 0.  0.  1.]\n",
      " [ 0. -1.  0.]\n",
      " [ 1.  0.  0.]]\n",
      "[[0. 1. 0.]\n",
      " [0. 0. 1.]\n",
      " [1. 0. 0.]]\n",
      "[[ 0.  0. -1.]\n",
      " [-0.  1.  0.]\n",
      " [ 1.  0.  0.]]\n",
      "[[ 0. -1.  0.]\n",
      " [ 0.  0. -1.]\n",
      " [ 1.  0.  0.]]\n",
      "[[ 1.  0.  0.]\n",
      " [ 0. -1.  0.]\n",
      " [ 0.  0. -1.]]\n",
      "[[ 0.  1.  0.]\n",
      " [ 1. -0.  0.]\n",
      " [ 0.  0. -1.]]\n",
      "[[-1.  0.  0.]\n",
      " [ 0.  1.  0.]\n",
      " [ 0.  0. -1.]]\n",
      "[[ 0. -1.  0.]\n",
      " [-1. -0. -0.]\n",
      " [ 0.  0. -1.]]\n",
      "[[ 1.  0.  0.]\n",
      " [-0.  0.  1.]\n",
      " [ 0. -1.  0.]]\n",
      "[[ 0.  0.  1.]\n",
      " [-1.  0.  0.]\n",
      " [ 0. -1.  0.]]\n",
      "[[-1.  0.  0.]\n",
      " [-0. -0. -1.]\n",
      " [ 0. -1.  0.]]\n",
      "[[ 0.  0. -1.]\n",
      " [ 1.  0.  0.]\n",
      " [ 0. -1.  0.]]\n",
      "[[ 0.  0.  1.]\n",
      " [ 0.  1. -0.]\n",
      " [-1.  0.  0.]]\n",
      "[[ 0.  1.  0.]\n",
      " [ 0.  0. -1.]\n",
      " [-1.  0.  0.]]\n",
      "[[ 0.  0. -1.]\n",
      " [-0. -1. -0.]\n",
      " [-1.  0.  0.]]\n",
      "[[ 0. -1.  0.]\n",
      " [ 0.  0.  1.]\n",
      " [-1.  0.  0.]]\n"
     ]
    }
   ],
   "source": [
    "cubic=[\n",
    "    # face 001 perpendicular to 001\n",
    "    Rmiller([0,0,1],[1,0,0]),Rmiller([0,0,1],[0,1,0]),Rmiller([0,0,1],[-1,0,0]),Rmiller([0,0,1],[0,-1,0]),\n",
    "    # face 010 perpendicular to 001\n",
    "    Rmiller([0,1,0],[1,0,0]),Rmiller([0,1,0],[0,0,1]),Rmiller([0,1,0],[-1,0,0]),Rmiller([0,1,0],[0,0,-1]),\n",
    "    # face 100 perpendicular to 001\n",
    "    Rmiller([1,0,0],[0,0,1]),Rmiller([1,0,0],[0,1,0]),Rmiller([1,0,0],[0,0,-1]),Rmiller([1,0,0],[0,-1,0]),\n",
    "    # face -001 perpendicular to 001\n",
    "    Rmiller([0,0,-1],[1,0,0]),Rmiller([0,0,-1],[0,1,0]),Rmiller([0,0,-1],[-1,0,0]),Rmiller([0,0,-1],[0,-1,0]),\n",
    "    # face -010 perpendicular to 001\n",
    "    Rmiller([0,-1,0],[1,0,0]),Rmiller([0,-1,0],[0,0,1]),Rmiller([0,-1,0],[-1,0,0]),Rmiller([0,-1,0],[0,0,-1]),\n",
    "    # face -100 perpendicular to 001\n",
    "    Rmiller([-1,0,0],[0,0,1]),Rmiller([-1,0,0],[0,1,0]),Rmiller([-1,0,0],[0,0,-1]),Rmiller([-1,0,0],[0,-1,0])\n",
    "]\n",
    "for c in cubic: print(c)"
   ]
  },
  {
   "cell_type": "markdown",
   "id": "2f72bf4f",
   "metadata": {},
   "source": [
    "**TODO** Calculate cubic symmetry operators using Euler angles and axis-angle."
   ]
  },
  {
   "cell_type": "markdown",
   "id": "88a82584",
   "metadata": {},
   "source": [
    "### Tetragonal symmetry\n",
    "\n",
    "### Hexagonal symmetry\n",
    "\n",
    "### Orthorhombic symmetry\n",
    "\n",
    "**TODO**"
   ]
  },
  {
   "cell_type": "markdown",
   "id": "4f981fcc",
   "metadata": {},
   "source": [
    "## Symmetric variants\n",
    "\n",
    "Given an orientation (represented, for example, by an orientation matrix), we can obtain all the symmetric variants corresponding to that orientation applying each of the symmetry operators. These variants represent all the different orientations that correspond to the same orientation under symmetry.\n",
    "\n",
    "For example, we can obtain the 24 variants of `r` multiplying it by each of the 24 cubic symmetry operators in `cubic`:"
   ]
  },
  {
   "cell_type": "code",
   "execution_count": 13,
   "id": "bf0d2184",
   "metadata": {},
   "outputs": [
    {
     "name": "stdout",
     "output_type": "stream",
     "text": [
      "[[ 0.27086608  0.95387879  0.12940952]\n",
      " [-0.94505974  0.23795296  0.22414387]\n",
      " [ 0.1830127  -0.1830127   0.96592583]]\n",
      "[[-0.94505974  0.23795296  0.22414387]\n",
      " [-0.27086608 -0.95387879 -0.12940952]\n",
      " [ 0.1830127  -0.1830127   0.96592583]]\n",
      "[[-0.27086608 -0.95387879 -0.12940952]\n",
      " [ 0.94505974 -0.23795296 -0.22414387]\n",
      " [ 0.1830127  -0.1830127   0.96592583]]\n",
      "[[ 0.94505974 -0.23795296 -0.22414387]\n",
      " [ 0.27086608  0.95387879  0.12940952]\n",
      " [ 0.1830127  -0.1830127   0.96592583]]\n",
      "[[ 0.27086608  0.95387879  0.12940952]\n",
      " [-0.1830127   0.1830127  -0.96592583]\n",
      " [-0.94505974  0.23795296  0.22414387]]\n",
      "[[ 0.1830127  -0.1830127   0.96592583]\n",
      " [ 0.27086608  0.95387879  0.12940952]\n",
      " [-0.94505974  0.23795296  0.22414387]]\n",
      "[[-0.27086608 -0.95387879 -0.12940952]\n",
      " [ 0.1830127  -0.1830127   0.96592583]\n",
      " [-0.94505974  0.23795296  0.22414387]]\n",
      "[[-0.1830127   0.1830127  -0.96592583]\n",
      " [-0.27086608 -0.95387879 -0.12940952]\n",
      " [-0.94505974  0.23795296  0.22414387]]\n",
      "[[ 0.1830127  -0.1830127   0.96592583]\n",
      " [ 0.94505974 -0.23795296 -0.22414387]\n",
      " [ 0.27086608  0.95387879  0.12940952]]\n",
      "[[-0.94505974  0.23795296  0.22414387]\n",
      " [ 0.1830127  -0.1830127   0.96592583]\n",
      " [ 0.27086608  0.95387879  0.12940952]]\n",
      "[[-0.1830127   0.1830127  -0.96592583]\n",
      " [-0.94505974  0.23795296  0.22414387]\n",
      " [ 0.27086608  0.95387879  0.12940952]]\n",
      "[[ 0.94505974 -0.23795296 -0.22414387]\n",
      " [-0.1830127   0.1830127  -0.96592583]\n",
      " [ 0.27086608  0.95387879  0.12940952]]\n",
      "[[ 0.27086608  0.95387879  0.12940952]\n",
      " [ 0.94505974 -0.23795296 -0.22414387]\n",
      " [-0.1830127   0.1830127  -0.96592583]]\n",
      "[[-0.94505974  0.23795296  0.22414387]\n",
      " [ 0.27086608  0.95387879  0.12940952]\n",
      " [-0.1830127   0.1830127  -0.96592583]]\n",
      "[[-0.27086608 -0.95387879 -0.12940952]\n",
      " [-0.94505974  0.23795296  0.22414387]\n",
      " [-0.1830127   0.1830127  -0.96592583]]\n",
      "[[ 0.94505974 -0.23795296 -0.22414387]\n",
      " [-0.27086608 -0.95387879 -0.12940952]\n",
      " [-0.1830127   0.1830127  -0.96592583]]\n",
      "[[ 0.27086608  0.95387879  0.12940952]\n",
      " [ 0.1830127  -0.1830127   0.96592583]\n",
      " [ 0.94505974 -0.23795296 -0.22414387]]\n",
      "[[ 0.1830127  -0.1830127   0.96592583]\n",
      " [-0.27086608 -0.95387879 -0.12940952]\n",
      " [ 0.94505974 -0.23795296 -0.22414387]]\n",
      "[[-0.27086608 -0.95387879 -0.12940952]\n",
      " [-0.1830127   0.1830127  -0.96592583]\n",
      " [ 0.94505974 -0.23795296 -0.22414387]]\n",
      "[[-0.1830127   0.1830127  -0.96592583]\n",
      " [ 0.27086608  0.95387879  0.12940952]\n",
      " [ 0.94505974 -0.23795296 -0.22414387]]\n",
      "[[ 0.1830127  -0.1830127   0.96592583]\n",
      " [-0.94505974  0.23795296  0.22414387]\n",
      " [-0.27086608 -0.95387879 -0.12940952]]\n",
      "[[-0.94505974  0.23795296  0.22414387]\n",
      " [-0.1830127   0.1830127  -0.96592583]\n",
      " [-0.27086608 -0.95387879 -0.12940952]]\n",
      "[[-0.1830127   0.1830127  -0.96592583]\n",
      " [ 0.94505974 -0.23795296 -0.22414387]\n",
      " [-0.27086608 -0.95387879 -0.12940952]]\n",
      "[[ 0.94505974 -0.23795296 -0.22414387]\n",
      " [ 0.1830127  -0.1830127   0.96592583]\n",
      " [-0.27086608 -0.95387879 -0.12940952]]\n"
     ]
    }
   ],
   "source": [
    "v=[c@r for c in cubic]\n",
    "for vi in v: print(vi)"
   ]
  },
  {
   "cell_type": "markdown",
   "id": "edfee024",
   "metadata": {},
   "source": [
    "# Misorientations\n",
    "\n",
    "The misorientation between two orientations is the rotation that converts one orientation into the other. If these orientations are subjected to some kind of symmetry, all the symmetric variants must be considered, and the one for the lowest misorientation angle (also called *disorientation*) will be the misorientation under symmetry.\n",
    "\n",
    "## Relative rotation\n",
    "\n",
    "If symmetry is not considered, and we want to calculate the misorientation between the orientations $R_1$ and $R_2$, the relative rotation $\\Delta R$ will transform $R_1$ into $R_2$, so $R_2=\\Delta R\\,R_1$ and, therefore, $\\Delta R=R_2\\,R_1^{-1}=R_2\\,R_1^T$."
   ]
  },
  {
   "cell_type": "code",
   "execution_count": 14,
   "id": "c87f40b0",
   "metadata": {},
   "outputs": [
    {
     "name": "stdout",
     "output_type": "stream",
     "text": [
      "[[ 0.12940952 -0.48296291  0.8660254 ]\n",
      " [ 0.22414387 -0.8365163  -0.5       ]\n",
      " [ 0.96592583  0.25881905  0.        ]]\n"
     ]
    }
   ],
   "source": [
    "def dRot(r,s):\n",
    "    # r and s are rotation matrices\n",
    "    # returns the relative rotation\n",
    "    return r@np.transpose(s)\n",
    "dr=dRot(r,m)\n",
    "print(dr)"
   ]
  },
  {
   "cell_type": "raw",
   "id": "5c6d46ea",
   "metadata": {},
   "source": [
    "ori1=cub@rot1\n",
    "ori2=cub'@rot2\n",
    "dr=ori1@trans(ori2)=...=rot1@cub@cub'@trans(rot2)=rot1@trans(rot2)@cub''"
   ]
  },
  {
   "cell_type": "markdown",
   "id": "67259bed",
   "metadata": {},
   "source": [
    "## Axis and angle\n",
    "\n",
    "The axis and angle of rotation can be obtained from the matrix using the functions previously defined."
   ]
  },
  {
   "cell_type": "code",
   "execution_count": 15,
   "id": "77f607c9",
   "metadata": {},
   "outputs": [
    {
     "name": "stdout",
     "output_type": "stream",
     "text": [
      "148.600285190081 [-0.42014346  0.81165484 -0.40582742]\n"
     ]
    }
   ],
   "source": [
    "print(deg(ang(dr)),axis(dr))"
   ]
  },
  {
   "cell_type": "markdown",
   "id": "9e3d0e1d",
   "metadata": {},
   "source": [
    "## Crystal symmetry\n",
    "\n",
    "Under crystal symmetry, we will need to check all the possible variants. Alternatively, we can directly apply the symmetry operators to the relative matrix. We will choose as misorientation the one for which the disorientation (or misorientation angle) is minimum."
   ]
  },
  {
   "cell_type": "code",
   "execution_count": 16,
   "id": "cd9ca8e9",
   "metadata": {},
   "outputs": [
    {
     "name": "stdout",
     "output_type": "stream",
     "text": [
      "33.46386313025447 [0.8655052322407867, 0.22400923773979584, 0.44801847547959184]\n"
     ]
    }
   ],
   "source": [
    "def misorientation(csym,r,s):\n",
    "    # csym: crystal symmetry operators (list of numpy arrys (3,3))\n",
    "    # r and s are rotation matrices\n",
    "    # return the angle (in radians) and axis of misorientation\n",
    "    dr=dRot(r,s)\n",
    "    a=2*np.pi\n",
    "    for sym in csym:\n",
    "        ri=sym@dr\n",
    "        ai,axi=ang(ri),axis(ri)\n",
    "        if ai<a: a,ax=ai,axi\n",
    "    return a,ax\n",
    "a,ax=misorientation(cubic,r,m)\n",
    "print(deg(a),list(ax))"
   ]
  },
  {
   "cell_type": "markdown",
   "id": "847e3db0",
   "metadata": {},
   "source": [
    "The orientations `r` and `m` are related, under cubic symmetry, by a disorientation of 33.46 degrees around the axis (0.87,0.22,0.45)."
   ]
  },
  {
   "cell_type": "code",
   "execution_count": null,
   "id": "721690a9",
   "metadata": {},
   "outputs": [],
   "source": []
  }
 ],
 "metadata": {
  "kernelspec": {
   "display_name": "Python 3 (ipykernel)",
   "language": "python",
   "name": "python3"
  },
  "language_info": {
   "codemirror_mode": {
    "name": "ipython",
    "version": 3
   },
   "file_extension": ".py",
   "mimetype": "text/x-python",
   "name": "python",
   "nbconvert_exporter": "python",
   "pygments_lexer": "ipython3",
   "version": "3.9.13"
  }
 },
 "nbformat": 4,
 "nbformat_minor": 5
}
