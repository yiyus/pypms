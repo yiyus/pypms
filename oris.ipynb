{
 "cells": [
  {
   "cell_type": "code",
   "execution_count": 1,
   "id": "0606a073",
   "metadata": {},
   "outputs": [],
   "source": [
    "import itertools\n",
    "import numpy as np\n",
    "import matplotlib.pyplot as plt\n",
    "import matplotlib.colors"
   ]
  },
  {
   "cell_type": "markdown",
   "id": "81040242",
   "metadata": {},
   "source": [
    "# Orientations\n",
    "\n",
    "We are interested in representing the orientation of crystals in 3D.\n",
    "\n",
    "## Rotation and orientation matrix\n",
    "\n",
    "A rotation matrix, when multiplied by a vector, results in the same vector rotated. An orientation matrix, when multiplied by a vector, results in the same vector in the rotated coordinate system. The orientation matrix (*passive rotation*) is the transpose of the corresponding rotation matrix (*active rotation*).\n",
    "\n",
    "It is trivial to define rotation or orientation matrices which express rotations in a plane. For example, we will calculate the rotation matrices for rotations of 15, 30 and 60 degrees around the Z and X axes. First, we need the angles in radians:"
   ]
  },
  {
   "cell_type": "code",
   "execution_count": 2,
   "id": "3f18cc20",
   "metadata": {},
   "outputs": [
    {
     "name": "stdout",
     "output_type": "stream",
     "text": [
      "[0.26179939 0.52359878 1.04719755 1.30899694]\n"
     ]
    }
   ],
   "source": [
    "def rad(a): return (a*np.pi)/180\n",
    "ang=rad(np.array([15,30,60,75])) # rotation angle: 60 degrees\n",
    "print(ang)"
   ]
  },
  {
   "cell_type": "markdown",
   "id": "008a0e30",
   "metadata": {},
   "source": [
    "To find the rotation matrices, we take into account that the vector component parallel to the rotation axis must remain unchanged. The other components get multiplied by the sine or the cosine. Examples:"
   ]
  },
  {
   "cell_type": "code",
   "execution_count": 3,
   "id": "c0efb75e",
   "metadata": {},
   "outputs": [
    {
     "name": "stdout",
     "output_type": "stream",
     "text": [
      "[[[ 0.96592583 -0.25881905  0.        ]\n",
      "  [ 0.25881905  0.96592583  0.        ]\n",
      "  [ 0.          0.          1.        ]]\n",
      "\n",
      " [[ 0.8660254  -0.5         0.        ]\n",
      "  [ 0.5         0.8660254   0.        ]\n",
      "  [ 0.          0.          1.        ]]\n",
      "\n",
      " [[ 0.5        -0.8660254   0.        ]\n",
      "  [ 0.8660254   0.5         0.        ]\n",
      "  [ 0.          0.          1.        ]]\n",
      "\n",
      " [[ 0.25881905 -0.96592583  0.        ]\n",
      "  [ 0.96592583  0.25881905  0.        ]\n",
      "  [ 0.          0.          1.        ]]]\n"
     ]
    }
   ],
   "source": [
    "def trans1(a):\n",
    "    s=list(range(len(a.shape)))\n",
    "    return np.transpose(a,s[2:]+s[:2])\n",
    "# Rotation around axis Z (in the XY plane) with angle a in radians\n",
    "def rot_z(a):\n",
    "    c,s=np.cos(a),np.sin(a)\n",
    "    u=1.*(a==a); z=0.*u\n",
    "    return trans1(np.array([[c,-s,z],[s,c,z],[z,z,u]]))\n",
    "rz=rot_z(ang)\n",
    "print(rz)"
   ]
  },
  {
   "cell_type": "code",
   "execution_count": 4,
   "id": "8b2b4206",
   "metadata": {},
   "outputs": [
    {
     "name": "stdout",
     "output_type": "stream",
     "text": [
      "[[[ 1.          0.          0.        ]\n",
      "  [ 0.          0.96592583 -0.25881905]\n",
      "  [ 0.          0.25881905  0.96592583]]\n",
      "\n",
      " [[ 1.          0.          0.        ]\n",
      "  [ 0.          0.8660254  -0.5       ]\n",
      "  [ 0.          0.5         0.8660254 ]]\n",
      "\n",
      " [[ 1.          0.          0.        ]\n",
      "  [ 0.          0.5        -0.8660254 ]\n",
      "  [ 0.          0.8660254   0.5       ]]\n",
      "\n",
      " [[ 1.          0.          0.        ]\n",
      "  [ 0.          0.25881905 -0.96592583]\n",
      "  [ 0.          0.96592583  0.25881905]]]\n"
     ]
    }
   ],
   "source": [
    "# Rotation around axis X (in the YZ plane) with angle a in radians\n",
    "def rot_x(a):\n",
    "    c,s=np.cos(a),np.sin(a)\n",
    "    u=1.*(a==a); z=0.*u\n",
    "    return trans1(np.array([[u,z,z],[z,c,-s],[z,s,c]]))\n",
    "rx=rot_x(ang)\n",
    "print(rx)"
   ]
  },
  {
   "cell_type": "markdown",
   "id": "a297b8ab",
   "metadata": {},
   "source": [
    "Notice that, when we build the array with `np.array`, we get an array of shape `(3,3,n)`, where `n` is the number of angles. So, we need to transpose the matrix. But, when transposing the matrix, we do not want to transpose each of the rotation matrices, so we use the `trans1` function which reshapes an array of shape `(a,b,c)` into `(c,a,b)` and, for 2D arrays, leaves `(a,b)` as `(a,b)`.\n",
    "\n",
    "Transformation (or orientation) matrices are obtained transposing the rotation matrices."
   ]
  },
  {
   "cell_type": "code",
   "execution_count": 5,
   "id": "ecfd9375",
   "metadata": {},
   "outputs": [
    {
     "name": "stdout",
     "output_type": "stream",
     "text": [
      "[[[ 0.96592583  0.25881905  0.        ]\n",
      "  [-0.25881905  0.96592583  0.        ]\n",
      "  [ 0.          0.          1.        ]]\n",
      "\n",
      " [[ 0.8660254   0.5         0.        ]\n",
      "  [-0.5         0.8660254   0.        ]\n",
      "  [ 0.          0.          1.        ]]\n",
      "\n",
      " [[ 0.5         0.8660254   0.        ]\n",
      "  [-0.8660254   0.5         0.        ]\n",
      "  [ 0.          0.          1.        ]]\n",
      "\n",
      " [[ 0.25881905  0.96592583  0.        ]\n",
      "  [-0.96592583  0.25881905  0.        ]\n",
      "  [ 0.          0.          1.        ]]]\n",
      "[[[ 1.          0.          0.        ]\n",
      "  [ 0.          0.96592583  0.25881905]\n",
      "  [ 0.         -0.25881905  0.96592583]]\n",
      "\n",
      " [[ 1.          0.          0.        ]\n",
      "  [ 0.          0.8660254   0.5       ]\n",
      "  [ 0.         -0.5         0.8660254 ]]\n",
      "\n",
      " [[ 1.          0.          0.        ]\n",
      "  [ 0.          0.5         0.8660254 ]\n",
      "  [ 0.         -0.8660254   0.5       ]]\n",
      "\n",
      " [[ 1.          0.          0.        ]\n",
      "  [ 0.          0.25881905  0.96592583]\n",
      "  [ 0.         -0.96592583  0.25881905]]]\n"
     ]
    }
   ],
   "source": [
    "def trans2(a):\n",
    "    s=list(range(len(a.shape)))\n",
    "    return np.transpose(a,s[:-2]+s[-1:-3:-1])\n",
    "tz=trans2(rz)\n",
    "tx=trans2(rx)\n",
    "print(tz)\n",
    "print(tx)"
   ]
  },
  {
   "cell_type": "markdown",
   "id": "b0c2537d",
   "metadata": {},
   "source": [
    "Now, we want to transpose the actual rotation matrices, so we use the `trans2` function, which reshapes arrays with shape `(a,b,c)` into `(a,c,b)` or, for 2D arrays, `(a,b)` into `(b,a)`.\n",
    "\n",
    "It is useful to check that the properties of rotation matrices are fulfilled using 90 degrees rotations:"
   ]
  },
  {
   "cell_type": "code",
   "execution_count": 6,
   "id": "6845451e",
   "metadata": {},
   "outputs": [],
   "source": [
    "def test_Rzx():\n",
    "    rz,rx=rot_z(np.pi/2),rot_x(np.pi/2)\n",
    "    assert((1,1)==(np.linalg.det(rz),np.linalg.det(rx)))              # matrix determinant == 1\n",
    "    assert(np.isclose(np.identity(3),rz@np.transpose(rz)).all())      # matrix transpose == matrix inverse\n",
    "    assert(np.isclose(np.identity(3),rx@np.transpose(rx)).all())\n",
    "    assert(np.isclose(np.array([[0,-1,0],[1,0,0],[0,0,1]]),rz).all()) # matrix columns == rotated base vectors\n",
    "    assert(np.isclose(np.array([[1,0,0],[0,0,-1],[0,1,0]]),rx).all())\n",
    "test_Rzx()"
   ]
  },
  {
   "cell_type": "markdown",
   "id": "288b5a86",
   "metadata": {},
   "source": [
    "## Euler angles\n",
    "\n",
    "A triplet of Euler angles $(\\varphi_1,\\Phi,\\varphi_2)$ represents an orientation corresponding to three successive rotations with respect to a reference position. The first orientation is performed around the Z axis with an angle $\\varphi_1$. This results in the rotation of the axes X and Y, which will become X' and Y'. Next, a rotation with an angle $\\Phi$ is performed around the axis X', resulting in the rotation of the axes Y' and Z, which become Y'' and Z'. Finally, a rotation with angle $\\varphi_2$ is performed around the axis Z'.\n",
    "\n",
    "With three Euler angles, we can describe any orientation in 3D. However, an orientation can be represented by more than one set of Euler angles. As a trivial example, any two triplets of Euler angles for which $\\Phi$ is $0$ and $\\varphi_1+\\varphi_2$ is constant will represent the same orientation.\n",
    "\n",
    "### Orientation matrix from Euler angles\n",
    "\n",
    "The functions `rot_z` and `rot_x` previously defined can be used to define rotations around the Z and X axes. Moreover, rotations can be combined simply multiplying the corresponding matrices. Finally, we can convert a rotation matrix into an orientation matrix just transposing it. If we put everything together in a function, this function will return the orientation matrices corresponding to a list of triplets of Euler angles:"
   ]
  },
  {
   "cell_type": "code",
   "execution_count": 7,
   "id": "a976242d",
   "metadata": {},
   "outputs": [
    {
     "name": "stdout",
     "output_type": "stream",
     "text": [
      "[[[ 0.8660254   0.5         0.        ]\n",
      "  [-0.5         0.8660254   0.        ]\n",
      "  [ 0.          0.          1.        ]]\n",
      "\n",
      " [[ 1.          0.          0.        ]\n",
      "  [ 0.          0.8660254   0.5       ]\n",
      "  [ 0.         -0.5         0.8660254 ]]\n",
      "\n",
      " [[ 0.52451905  0.84150635  0.12940952]\n",
      "  [-0.77451905  0.40849365  0.48296291]\n",
      "  [ 0.35355339 -0.35355339  0.8660254 ]]\n",
      "\n",
      " [[ 0.98483666  0.17331779  0.00759612]\n",
      "  [-0.17331779  0.98103136  0.08682409]\n",
      "  [ 0.00759612 -0.08682409  0.9961947 ]]]\n"
     ]
    }
   ],
   "source": [
    "def rot(ea):\n",
    "    phi1,Phi,phi2=np.transpose(ea)\n",
    "    r=rot_z(phi2)@rot_x(Phi)@rot_z(phi1)\n",
    "    return trans2(r)\n",
    "ea=np.array([rad(np.array(a)) for a in [[30,0,0],[0,30,0],[15,30,45],[5,5,5]]])\n",
    "r=rot(ea)\n",
    "print(r)"
   ]
  },
  {
   "cell_type": "markdown",
   "id": "1402533a",
   "metadata": {},
   "source": [
    "## Axis and angle\n",
    "\n",
    "To calculate the angles of rotation we take into account that the trace of the rotation (or orientation) matrix, for an angle of rotation $\\theta$, must be equal to $1+2\\cos(\\theta)$. Therefore, to get the angles in degrees from the rotation matrices:"
   ]
  },
  {
   "cell_type": "code",
   "execution_count": 8,
   "id": "6ee63902",
   "metadata": {},
   "outputs": [
    {
     "name": "stdout",
     "output_type": "stream",
     "text": [
      "[30.         30.         66.45188441 11.17749962]\n"
     ]
    }
   ],
   "source": [
    "def ang(r): return np.arccos((np.trace(r,axis1=-2,axis2=-1)-1)/2.)\n",
    "def deg(a): return (a*180)/np.pi\n",
    "print(deg(ang(r)))"
   ]
  },
  {
   "cell_type": "markdown",
   "id": "91db942e",
   "metadata": {},
   "source": [
    "[To find the axes](https://en.wikipedia.org/wiki/Rotation_matrix#Determining_the_axis), we take into account that, for each rotation, rotating the vector that represents the axis must result in the same vector. This is equivalent to say that the skew-symmetric part of the rotation matrix (obtained as $1/2(R-R^T)$) corresponds to the components of the axis. We then use `norm` to normalize the obtained normal vectors."
   ]
  },
  {
   "cell_type": "code",
   "execution_count": 9,
   "id": "5dd3593e",
   "metadata": {},
   "outputs": [
    {
     "name": "stdout",
     "output_type": "stream",
     "text": [
      "[[0.         0.         1.        ]\n",
      " [1.         0.         0.        ]\n",
      " [0.45625264 0.12225253 0.88141242]\n",
      " [0.44789522 0.         0.89408606]]\n"
     ]
    }
   ],
   "source": [
    "def norm(v):\n",
    "    n=(v*v).sum(axis=-1)\n",
    "    n=np.where(n==0,1,n)\n",
    "    return np.transpose(np.transpose(v)/n**0.5)\n",
    "def axis(r):\n",
    "    s=list(range(len(r.shape)))\n",
    "    r=np.transpose(r-trans2(r),s[-2:]+s[:-2])\n",
    "    return norm(np.transpose([r[1,2],r[2,0],r[0,1]]))\n",
    "print(axis(r))"
   ]
  },
  {
   "cell_type": "markdown",
   "id": "70bca18c",
   "metadata": {},
   "source": [
    "**TODO** Calculate [rotation matrix from axis-angle](https://en.wikipedia.org/wiki/Rotation_matrix#Rotation_matrix_from_axis_and_angle)"
   ]
  },
  {
   "cell_type": "markdown",
   "id": "24b96988",
   "metadata": {},
   "source": [
    "## Miller indices\n",
    "\n",
    "To represent orientations using Miller indices we need a plane (its normal direction) and a direction in that plane.\n",
    "\n",
    "The orientation matrix and the corresponding Miller indices are easily correlated. The leftmost column is the normal to the plane, the rightmost column the direction. Both are perpendicular, and the third unitary vector must be perpendicular to both, so it is obtained using the vector cross product (see: [Texture Components and Euler Angles](http://pajarito.materials.cmu.edu/lectures/Components_EulerAngles-14Jan20.pdf)). We also normalize the vectors so that they are unitary. They should already be, but this way we mitigate any rounding error."
   ]
  },
  {
   "cell_type": "code",
   "execution_count": 10,
   "id": "127824c4",
   "metadata": {},
   "outputs": [
    {
     "name": "stdout",
     "output_type": "stream",
     "text": [
      "[[ 0.          0.          1.        ]\n",
      " [ 0.         -0.5         0.8660254 ]\n",
      " [ 0.35355339 -0.35355339  0.8660254 ]\n",
      " [ 0.00759612 -0.08682409  0.9961947 ]]\n",
      "[[0.8660254  0.5        0.        ]\n",
      " [1.         0.         0.        ]\n",
      " [0.52451905 0.84150635 0.12940952]\n",
      " [0.98483666 0.17331779 0.00759612]]\n"
     ]
    }
   ],
   "source": [
    "def miller(r):\n",
    "    return norm(r[:,2]),norm(r[:,0])\n",
    "hkl,uvw=miller(r)\n",
    "print(hkl)\n",
    "print(uvw)"
   ]
  },
  {
   "cell_type": "markdown",
   "id": "e15e60fb",
   "metadata": {},
   "source": [
    "Using this relationship, we can also find the rotation matrix from the Miller indices. We only need to normalize the normal and direction vectors and calculate their dot product. Additionally, we check that the direction must be on the plane (must be perpendicular to the plane normal)."
   ]
  },
  {
   "cell_type": "code",
   "execution_count": 11,
   "id": "bbca0719",
   "metadata": {},
   "outputs": [
    {
     "name": "stdout",
     "output_type": "stream",
     "text": [
      "[[ 0.          0.          1.        ]\n",
      " [ 0.70710678 -0.70710678  0.        ]\n",
      " [ 0.70710678  0.70710678  0.        ]]\n"
     ]
    }
   ],
   "source": [
    "#def norm(v): return v/(v*v).sum()**0.5\n",
    "def Rmiller(hkl,uvw):\n",
    "    assert(0==np.dot(hkl,uvw)) # must be perpendicular\n",
    "    n,d=norm(np.array(hkl)),norm(np.array(uvw))\n",
    "    c=norm(np.cross(n,d))\n",
    "    return np.array([d,c,n])\n",
    "m=Rmiller([1,1,0],[0,0,1])\n",
    "print(m)"
   ]
  },
  {
   "cell_type": "markdown",
   "id": "14c6a2f0",
   "metadata": {},
   "source": [
    "# Symmetry\n",
    "\n",
    "Crystals usually present some form of symmetry. What this means is that they are invariant to certain rotations. For example, a cubic crystal structure (or any cube, for that matter) will present 24 equivalent orientations.\n",
    "\n",
    "#### Example\n",
    "\n",
    "If we can visualize three faces of a Rubik cube, we will see three different colors. Performing 90 degrees rotations around the faces of the cube, we can change these three colors. There will be a total of 24 different combinations of colors, which will correspond to the 24 equivalent orientations of cubic symmetry.\n",
    "\n",
    "## Symmetry operators\n",
    "\n",
    "### Cubic symmetry\n",
    "\n",
    "There are different ways in which we can represent the symmetry operators corresponding to cubic symmetry. Eventually, what we want are 24 orientation matrices.\n",
    "\n",
    "For example, using Miller indices, we can define the operators as the orientations corresponding to orienting each of the 6 faces of the cube parallel to the 001 direction and then considering, for each one, four perpendicular directions."
   ]
  },
  {
   "cell_type": "code",
   "execution_count": 12,
   "id": "32999d94",
   "metadata": {},
   "outputs": [
    {
     "name": "stdout",
     "output_type": "stream",
     "text": [
      "[[1. 0. 0.]\n",
      " [0. 1. 0.]\n",
      " [0. 0. 1.]]\n",
      "[[ 0.  1.  0.]\n",
      " [-1.  0.  0.]\n",
      " [ 0.  0.  1.]]\n",
      "[[-1.  0.  0.]\n",
      " [ 0. -1.  0.]\n",
      " [ 0.  0.  1.]]\n",
      "[[ 0. -1.  0.]\n",
      " [ 1.  0. -0.]\n",
      " [ 0.  0.  1.]]\n",
      "[[ 1.  0.  0.]\n",
      " [ 0.  0. -1.]\n",
      " [ 0.  1.  0.]]\n",
      "[[0. 0. 1.]\n",
      " [1. 0. 0.]\n",
      " [0. 1. 0.]]\n",
      "[[-1.  0.  0.]\n",
      " [ 0. -0.  1.]\n",
      " [ 0.  1.  0.]]\n",
      "[[ 0.  0. -1.]\n",
      " [-1.  0.  0.]\n",
      " [ 0.  1.  0.]]\n",
      "[[ 0.  0.  1.]\n",
      " [ 0. -1.  0.]\n",
      " [ 1.  0.  0.]]\n",
      "[[0. 1. 0.]\n",
      " [0. 0. 1.]\n",
      " [1. 0. 0.]]\n",
      "[[ 0.  0. -1.]\n",
      " [-0.  1.  0.]\n",
      " [ 1.  0.  0.]]\n",
      "[[ 0. -1.  0.]\n",
      " [ 0.  0. -1.]\n",
      " [ 1.  0.  0.]]\n",
      "[[ 1.  0.  0.]\n",
      " [ 0. -1.  0.]\n",
      " [ 0.  0. -1.]]\n",
      "[[ 0.  1.  0.]\n",
      " [ 1. -0.  0.]\n",
      " [ 0.  0. -1.]]\n",
      "[[-1.  0.  0.]\n",
      " [ 0.  1.  0.]\n",
      " [ 0.  0. -1.]]\n",
      "[[ 0. -1.  0.]\n",
      " [-1. -0. -0.]\n",
      " [ 0.  0. -1.]]\n",
      "[[ 1.  0.  0.]\n",
      " [-0.  0.  1.]\n",
      " [ 0. -1.  0.]]\n",
      "[[ 0.  0.  1.]\n",
      " [-1.  0.  0.]\n",
      " [ 0. -1.  0.]]\n",
      "[[-1.  0.  0.]\n",
      " [-0. -0. -1.]\n",
      " [ 0. -1.  0.]]\n",
      "[[ 0.  0. -1.]\n",
      " [ 1.  0.  0.]\n",
      " [ 0. -1.  0.]]\n",
      "[[ 0.  0.  1.]\n",
      " [ 0.  1. -0.]\n",
      " [-1.  0.  0.]]\n",
      "[[ 0.  1.  0.]\n",
      " [ 0.  0. -1.]\n",
      " [-1.  0.  0.]]\n",
      "[[ 0.  0. -1.]\n",
      " [-0. -1. -0.]\n",
      " [-1.  0.  0.]]\n",
      "[[ 0. -1.  0.]\n",
      " [ 0.  0.  1.]\n",
      " [-1.  0.  0.]]\n"
     ]
    }
   ],
   "source": [
    "cubic=[\n",
    "    # face 001 perpendicular to 001\n",
    "    Rmiller([0,0,1],[1,0,0]),Rmiller([0,0,1],[0,1,0]),Rmiller([0,0,1],[-1,0,0]),Rmiller([0,0,1],[0,-1,0]),\n",
    "    # face 010 perpendicular to 001\n",
    "    Rmiller([0,1,0],[1,0,0]),Rmiller([0,1,0],[0,0,1]),Rmiller([0,1,0],[-1,0,0]),Rmiller([0,1,0],[0,0,-1]),\n",
    "    # face 100 perpendicular to 001\n",
    "    Rmiller([1,0,0],[0,0,1]),Rmiller([1,0,0],[0,1,0]),Rmiller([1,0,0],[0,0,-1]),Rmiller([1,0,0],[0,-1,0]),\n",
    "    # face -001 perpendicular to 001\n",
    "    Rmiller([0,0,-1],[1,0,0]),Rmiller([0,0,-1],[0,1,0]),Rmiller([0,0,-1],[-1,0,0]),Rmiller([0,0,-1],[0,-1,0]),\n",
    "    # face -010 perpendicular to 001\n",
    "    Rmiller([0,-1,0],[1,0,0]),Rmiller([0,-1,0],[0,0,1]),Rmiller([0,-1,0],[-1,0,0]),Rmiller([0,-1,0],[0,0,-1]),\n",
    "    # face -100 perpendicular to 001\n",
    "    Rmiller([-1,0,0],[0,0,1]),Rmiller([-1,0,0],[0,1,0]),Rmiller([-1,0,0],[0,0,-1]),Rmiller([-1,0,0],[0,-1,0])\n",
    "]\n",
    "for c in cubic: print(c)"
   ]
  },
  {
   "cell_type": "markdown",
   "id": "2f72bf4f",
   "metadata": {},
   "source": [
    "**TODO** Calculate cubic symmetry operators using Euler angles and axis-angle."
   ]
  },
  {
   "cell_type": "markdown",
   "id": "88a82584",
   "metadata": {},
   "source": [
    "### Tetragonal symmetry\n",
    "\n",
    "### Hexagonal symmetry\n",
    "\n",
    "### Orthorhombic symmetry\n",
    "\n",
    "**TODO**"
   ]
  },
  {
   "cell_type": "markdown",
   "id": "4f981fcc",
   "metadata": {},
   "source": [
    "## Symmetric variants\n",
    "\n",
    "Given an orientation (represented, for example, by an orientation matrix), we can obtain all the symmetric variants corresponding to that orientation applying each of the symmetry operators. These variants represent all the different orientations that correspond to the same orientation under symmetry.\n",
    "\n",
    "For example, we can obtain the 24 variants of `r` multiplying it by each of the 24 cubic symmetry operators in `cubic`:"
   ]
  },
  {
   "cell_type": "code",
   "execution_count": 13,
   "id": "bf0d2184",
   "metadata": {},
   "outputs": [
    {
     "name": "stdout",
     "output_type": "stream",
     "text": [
      "[[[ 0.8660254   0.5         0.        ]\n",
      "  [-0.5         0.8660254   0.        ]\n",
      "  [ 0.          0.          1.        ]]\n",
      "\n",
      " [[ 1.          0.          0.        ]\n",
      "  [ 0.          0.8660254   0.5       ]\n",
      "  [ 0.         -0.5         0.8660254 ]]\n",
      "\n",
      " [[ 0.52451905  0.84150635  0.12940952]\n",
      "  [-0.77451905  0.40849365  0.48296291]\n",
      "  [ 0.35355339 -0.35355339  0.8660254 ]]\n",
      "\n",
      " [[ 0.98483666  0.17331779  0.00759612]\n",
      "  [-0.17331779  0.98103136  0.08682409]\n",
      "  [ 0.00759612 -0.08682409  0.9961947 ]]]\n",
      "[[[ 0.8660254   0.5         0.        ]\n",
      "  [ 0.5        -0.8660254   0.        ]\n",
      "  [ 0.          0.         -1.        ]]\n",
      "\n",
      " [[ 1.          0.          0.        ]\n",
      "  [ 0.         -0.8660254  -0.5       ]\n",
      "  [ 0.          0.5        -0.8660254 ]]\n",
      "\n",
      " [[ 0.52451905  0.84150635  0.12940952]\n",
      "  [ 0.77451905 -0.40849365 -0.48296291]\n",
      "  [-0.35355339  0.35355339 -0.8660254 ]]\n",
      "\n",
      " [[ 0.98483666  0.17331779  0.00759612]\n",
      "  [ 0.17331779 -0.98103136 -0.08682409]\n",
      "  [-0.00759612  0.08682409 -0.9961947 ]]]\n"
     ]
    }
   ],
   "source": [
    "v=[c@r for c in cubic]\n",
    "print(v[0])  # first variant of the 4 orientations\n",
    "print(v[12]) # twelveth variant of the 4 orientations"
   ]
  },
  {
   "cell_type": "markdown",
   "id": "edfee024",
   "metadata": {},
   "source": [
    "# Misorientations\n",
    "\n",
    "The misorientation between two orientations is the rotation that converts one orientation into the other. If these orientations are subjected to some kind of symmetry, all the symmetric variants must be considered, and the one for the lowest misorientation angle (also called *disorientation*) will be the misorientation under symmetry.\n",
    "\n",
    "## Relative rotation\n",
    "\n",
    "If symmetry is not considered, and we want to calculate the misorientation between the orientations $R_1$ and $R_2$, the relative rotation $\\Delta R$ will transform $R_1$ into $R_2$, so $R_2=\\Delta R\\,R_1$ and, therefore, $\\Delta R=R_2\\,R_1^{-1}=R_2\\,R_1^T$. We can, for instance, calculate the relative rotation between `m` and each of the four orientations in `r`:"
   ]
  },
  {
   "cell_type": "code",
   "execution_count": 14,
   "id": "c87f40b0",
   "metadata": {},
   "outputs": [
    {
     "name": "stdout",
     "output_type": "stream",
     "text": [
      "[[[ 0.          0.          1.        ]\n",
      "  [ 0.25881905 -0.96592583  0.        ]\n",
      "  [ 0.96592583  0.25881905  0.        ]]\n",
      "\n",
      " [[ 0.          0.5         0.8660254 ]\n",
      "  [ 0.70710678 -0.61237244  0.35355339]\n",
      "  [ 0.70710678  0.61237244 -0.35355339]]\n",
      "\n",
      " [[ 0.12940952  0.48296291  0.8660254 ]\n",
      "  [-0.22414387 -0.8365163   0.5       ]\n",
      "  [ 0.96592583 -0.25881905  0.        ]]\n",
      "\n",
      " [[ 0.00759612  0.08682409  0.9961947 ]\n",
      "  [ 0.5738305  -0.81624811  0.06676517]\n",
      "  [ 0.81893886  0.57113974 -0.05602263]]]\n"
     ]
    }
   ],
   "source": [
    "def dRot(r,s):\n",
    "    return r@trans2(s)\n",
    "dr=dRot(m,r)\n",
    "print(dr)"
   ]
  },
  {
   "cell_type": "markdown",
   "id": "67259bed",
   "metadata": {},
   "source": [
    "## Axis and angle\n",
    "\n",
    "The axes and angles of rotation can be obtained from the matrix using the functions previously defined."
   ]
  },
  {
   "cell_type": "code",
   "execution_count": 15,
   "id": "77f607c9",
   "metadata": {},
   "outputs": [
    {
     "name": "stdout",
     "output_type": "stream",
     "text": [
      "[169.40858887 169.40858887 148.60028519 158.80214   ]\n",
      "[[-0.70406259 -0.0926916  -0.70406259]\n",
      " [-0.70406259 -0.43230458 -0.56339029]\n",
      " [ 0.72822572  0.09587274  0.67859834]\n",
      " [-0.69744036 -0.24510628 -0.67342397]]\n"
     ]
    }
   ],
   "source": [
    "print(deg(ang(dr)))\n",
    "print(axis(dr))"
   ]
  },
  {
   "cell_type": "markdown",
   "id": "9e3d0e1d",
   "metadata": {},
   "source": [
    "## Crystal symmetry\n",
    "\n",
    "Under crystal symmetry, we will need to check all the possible variants. Alternatively, we can directly apply the symmetry operators to the relative matrix. We will choose as misorientation the one for which the disorientation (or misorientation angle) is minimum.\n",
    "\n",
    "When we have two sets of orientations, we will be interested in the misorientation between all possible pairs of orientations."
   ]
  },
  {
   "cell_type": "code",
   "execution_count": 16,
   "id": "3a82357f",
   "metadata": {
    "scrolled": false
   },
   "outputs": [
    {
     "name": "stdout",
     "output_type": "stream",
     "text": [
      "[[15.          0.         51.25646522 25.4872919  21.18282227]\n",
      " [33.46386313 42.18116236 48.56909738 25.4872919  21.02208029]\n",
      " [53.64743528 42.18116236 15.         44.49532212 46.8023782 ]\n",
      " [ 7.06994558 20.60935717 57.74825022  5.         11.17749962]]\n",
      "[[[ 0.00000000e+00  0.00000000e+00  1.00000000e+00]\n",
      "  [ 0.00000000e+00  0.00000000e+00  0.00000000e+00]\n",
      "  [ 8.33290968e-01 -3.90913138e-01 -3.90913138e-01]\n",
      "  [-1.88588272e-01  5.94616538e-02  9.80254444e-01]\n",
      "  [-6.93304816e-01  1.53701977e-01  7.04062592e-01]]\n",
      "\n",
      " [[ 8.91316118e-01 -1.17343993e-01 -4.37933744e-01]\n",
      "  [ 6.94746591e-01 -1.86156788e-01 -6.94746591e-01]\n",
      "  [-6.27893211e-01 -1.12208864e-01  7.70168349e-01]\n",
      "  [ 9.80254444e-01 -4.27988333e-02 -1.93053061e-01]\n",
      "  [ 7.04129992e-01 -2.13748801e-01 -6.77135441e-01]]\n",
      "\n",
      " [[ 5.68657118e-01  7.48651299e-02  8.19160725e-01]\n",
      "  [ 7.19254597e-01  4.13351104e-17  6.94746591e-01]\n",
      "  [-9.65925826e-01  2.58819045e-01  8.71319388e-17]\n",
      "  [ 2.58303870e-01  5.51909031e-01 -7.92890618e-01]\n",
      "  [ 3.58983609e-01  2.30911157e-01  9.04328926e-01]]\n",
      "\n",
      " [[ 7.01391090e-01 -9.23398887e-02 -7.06770036e-01]\n",
      "  [ 2.35534945e-01 -6.31113982e-02 -9.69814540e-01]\n",
      "  [-6.26952909e-01  3.73510560e-01  6.83681147e-01]\n",
      "  [ 7.59612349e-03  8.68240888e-02  9.96194698e-01]\n",
      "  [-8.97462430e-01  4.44508079e-04 -4.41090681e-01]]]\n",
      "[[ 0.         42.18116236 42.18116236 20.60935717]\n",
      " [42.18116236  0.         41.63579237 26.87506169]\n",
      " [42.18116236 41.63579237  0.         48.30651522]\n",
      " [20.60935717 26.87506169 48.30651522  0.        ]]\n",
      "[[[ 0.00000000e+00  0.00000000e+00  0.00000000e+00]\n",
      "  [-6.94746591e-01  1.86156788e-01  6.94746591e-01]\n",
      "  [-7.19254597e-01 -4.13351104e-17 -6.94746591e-01]\n",
      "  [-2.35534945e-01  6.31113982e-02  9.69814540e-01]]\n",
      "\n",
      " [[ 6.94746591e-01 -1.86156788e-01 -6.94746591e-01]\n",
      "  [ 0.00000000e+00  0.00000000e+00  0.00000000e+00]\n",
      "  [-4.27130119e-01 -3.27748468e-01  8.42698524e-01]\n",
      "  [ 9.27149400e-01 -9.69773897e-02 -3.61924546e-01]]\n",
      "\n",
      " [[ 7.19254597e-01  4.13351104e-17  6.94746591e-01]\n",
      "  [-3.27748468e-01  4.27130119e-01 -8.42698524e-01]\n",
      "  [ 0.00000000e+00  0.00000000e+00  0.00000000e+00]\n",
      "  [ 2.62999388e-01  4.90996902e-01 -8.30513916e-01]]\n",
      "\n",
      " [[ 2.35534945e-01 -6.31113982e-02 -9.69814540e-01]\n",
      "  [-9.27149400e-01  9.69773897e-02  3.61924546e-01]\n",
      "  [-4.90996902e-01  2.62999388e-01  8.30513916e-01]\n",
      "  [ 0.00000000e+00  0.00000000e+00  0.00000000e+00]]]\n"
     ]
    }
   ],
   "source": [
    "def misorientations(csym,r1,r2):\n",
    "    # returns disorientation angle in radians and axis\n",
    "    # len(r1) 4 and len(r2) 5\n",
    "    d=[]\n",
    "    for ri,rj in itertools.product(r1,r2):\n",
    "        d.append(dRot(ri,rj))\n",
    "    # len(d) 4x5\n",
    "    # d.shape (20,3,3)\n",
    "    p=[]\n",
    "    for s,di in itertools.product(csym,d):\n",
    "        p.append(s@di)\n",
    "    # len(csym) 24 => len(p)=24x4x5\n",
    "    # p.shape (24x20,3,3)\n",
    "    p=np.array(p).reshape(len(csym),len(d),3,3)\n",
    "    # shape(p) (24,20,3,3)\n",
    "    a=ang(p)\n",
    "    # a.shape (24,20)\n",
    "    m=a.argmin(axis=0)\n",
    "    # m.shape (20)\n",
    "    i,s=(m,range(len(m))),(len(r1),len(r2))\n",
    "    # m=[9,3,14,22,...]\n",
    "    # range(len(m))=[0,1,2,..,23]\n",
    "    # i=([9,3,14,...],[0,1,2,...,23])\n",
    "    # s=(4,5)\n",
    "    return a[i].reshape(s),axis(p[i]).reshape(s+(3,))\n",
    "# misorientations between two sets of orientations\n",
    "r1=rot(np.array([rad(np.array(a)) for a in [[30,0,0],[0,30,0],[15,30,45],[5,5,5]]]))\n",
    "r2=rot(np.array([rad(np.array(a)) for a in [[15,0,0],[30,0,0],[15,45,45],[5,5,0],[5,15,10]]]))\n",
    "d,a=misorientations(cubic,r1,r2)\n",
    "print(deg(d))\n",
    "print(a)\n",
    "# (uncorrelated) misorientations for a set of orientations\n",
    "d,a=misorientations(cubic,r1,r1)\n",
    "print(deg(d))\n",
    "print(a)"
   ]
  },
  {
   "cell_type": "markdown",
   "id": "49ed82b2",
   "metadata": {},
   "source": [
    "# Stereographic projection"
   ]
  },
  {
   "cell_type": "code",
   "execution_count": 17,
   "id": "eef5fc00",
   "metadata": {},
   "outputs": [
    {
     "data": {
      "image/png": "[encoded data removed]",
      "text/plain": [
       "<Figure size 500x500 with 1 Axes>"
      ]
     },
     "metadata": {},
     "output_type": "display_data"
    }
   ],
   "source": [
    "def circle1(size):\n",
    "    plt.figure(figsize=(size,size))\n",
    "    ax = plt.gca()\n",
    "    # Make the circle patch and add to the figure\n",
    "    circle = plt.Circle((0, 0), 1, color='#777', fill=None)\n",
    "    ax.add_patch(circle)   \n",
    "    # Make it a perfect circle by making it a perfect square box\n",
    "    ax.set_aspect('equal', adjustable='box')\n",
    "    # Set axis so it's visible \n",
    "    plt.xlim([-1.01,1.01])  \n",
    "    plt.ylim([-1.01,1.01])\n",
    "    ax.spines['left'].set_position('center')\n",
    "    ax.spines['bottom'].set_position('center')\n",
    "    ax.spines['right'].set_color('none')\n",
    "    ax.spines['top'].set_color('none')\n",
    "    ax.set_xticks([])\n",
    "    ax.set_yticks([])\n",
    "circle1(5)"
   ]
  },
  {
   "cell_type": "code",
   "execution_count": 18,
   "id": "2b030c4f",
   "metadata": {},
   "outputs": [],
   "source": [
    "def stereo(r,size=3,color='r'):\n",
    "    n = r[:,:,-1]\n",
    "    n = (np.abs(n[:,2:])<1)*n\n",
    "    xy = n[:,:2]/(1-n[:,2:])\n",
    "    yx = -n[:,:2]/(1+n[:,2:])\n",
    "    m = (xy*xy).sum(axis=1)\n",
    "    xy = np.where(np.transpose([m,m])<=1,xy,yx)\n",
    "    circle1(size)\n",
    "    if isinstance(color, np.ndarray):\n",
    "        cmap = plt.cm.rainbow\n",
    "        norm = matplotlib.colors.Normalize(vmin=np.min(color), vmax=np.max(color))\n",
    "        color = cmap(norm(color))\n",
    "    plt.scatter(xy[:,0], xy[:,1], color=color, marker='o')\n",
    "    plt.show()\n",
    "    plt.close()"
   ]
  },
  {
   "cell_type": "code",
   "execution_count": 19,
   "id": "3d4bdadc",
   "metadata": {},
   "outputs": [
    {
     "data": {
      "image/png": "[encoded data removed]",
      "text/plain": [
       "<Figure size 300x300 with 1 Axes>"
      ]
     },
     "metadata": {},
     "output_type": "display_data"
    }
   ],
   "source": [
    "stereo(r)"
   ]
  },
  {
   "cell_type": "code",
   "execution_count": 20,
   "id": "1af64e2f",
   "metadata": {
    "scrolled": false
   },
   "outputs": [
    {
     "data": {
      "image/png": "[encoded data removed]",
      "text/plain": [
       "<Figure size 300x300 with 1 Axes>"
      ]
     },
     "metadata": {},
     "output_type": "display_data"
    },
    {
     "data": {
      "image/png": "[encoded data removed]",
      "text/plain": [
       "<Figure size 300x300 with 1 Axes>"
      ]
     },
     "metadata": {},
     "output_type": "display_data"
    },
    {
     "data": {
      "image/png": "[encoded data removed]",
      "text/plain": [
       "<Figure size 300x300 with 1 Axes>"
      ]
     },
     "metadata": {},
     "output_type": "display_data"
    },
    {
     "data": {
      "image/png": "[encoded data removed]",
      "text/plain": [
       "<Figure size 300x300 with 1 Axes>"
      ]
     },
     "metadata": {},
     "output_type": "display_data"
    }
   ],
   "source": [
    "a = np.array(v)\n",
    "for i in range(a.shape[1]):\n",
    "    stereo(a[:,i])"
   ]
  },
  {
   "cell_type": "code",
   "execution_count": 21,
   "id": "7b6237b3",
   "metadata": {
    "scrolled": false
   },
   "outputs": [
    {
     "data": {
      "image/png": "[encoded data removed]",
      "text/plain": [
       "<Figure size 500x500 with 1 Axes>"
      ]
     },
     "metadata": {},
     "output_type": "display_data"
    }
   ],
   "source": [
    "a = np.array(v).transpose([1,0,2,3])\n",
    "ar = a.reshape((a.shape[0]*a.shape[1],a.shape[2],a.shape[3]))\n",
    "ac = np.repeat(range(a.shape[0]),a.shape[1])\n",
    "stereo(ar,color=ac,size=5)"
   ]
  }
 ],
 "metadata": {
  "kernelspec": {
   "display_name": "Python 3 (ipykernel)",
   "language": "python",
   "name": "python3"
  },
  "language_info": {
   "codemirror_mode": {
    "name": "ipython",
    "version": 3
   },
   "file_extension": ".py",
   "mimetype": "text/x-python",
   "name": "python",
   "nbconvert_exporter": "python",
   "pygments_lexer": "ipython3",
   "version": "3.9.13"
  }
 },
 "nbformat": 4,
 "nbformat_minor": 5
}
