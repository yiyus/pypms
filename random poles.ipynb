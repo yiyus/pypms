{
 "cells": [
  {
   "cell_type": "markdown",
   "id": "322d6340",
   "metadata": {},
   "source": [
    "## Calculate random Euler angles"
   ]
  },
  {
   "cell_type": "code",
   "execution_count": null,
   "id": "d3775c52",
   "metadata": {},
   "outputs": [],
   "source": [
    "def random(n):\n",
    "    return np.reshape(np.random(...),...)"
   ]
  },
  {
   "cell_type": "code",
   "execution_count": null,
   "id": "8442726f",
   "metadata": {},
   "outputs": [],
   "source": [
    "ea = random(1e3)"
   ]
  },
  {
   "cell_type": "markdown",
   "id": "44e14d24",
   "metadata": {},
   "source": [
    "## Convert Euler angles into rotation matrices"
   ]
  },
  {
   "cell_type": "code",
   "execution_count": null,
   "id": "7e7a35dc",
   "metadata": {},
   "outputs": [],
   "source": [
    "def matrices(ea):"
   ]
  },
  {
   "cell_type": "code",
   "execution_count": null,
   "id": "4ef955ff",
   "metadata": {},
   "outputs": [],
   "source": [
    "rot = matrices(ea)"
   ]
  },
  {
   "cell_type": "markdown",
   "id": "4b2fb8f4",
   "metadata": {},
   "source": [
    "## Plot pole figures"
   ]
  },
  {
   "cell_type": "code",
   "execution_count": null,
   "id": "f8fd01cf",
   "metadata": {},
   "outputs": [],
   "source": [
    "def plot(rot):"
   ]
  },
  {
   "cell_type": "code",
   "execution_count": null,
   "id": "00d60825",
   "metadata": {},
   "outputs": [],
   "source": [
    "plot(rot, [0,0,1])"
   ]
  },
  {
   "cell_type": "markdown",
   "id": "db0bc3a9",
   "metadata": {},
   "source": [
    "## Calculate misorientations"
   ]
  },
  {
   "cell_type": "code",
   "execution_count": null,
   "id": "c8db2659",
   "metadata": {},
   "outputs": [],
   "source": [
    "def misorientations(csym, rot):"
   ]
  },
  {
   "cell_type": "code",
   "execution_count": null,
   "id": "bc1678f2",
   "metadata": {},
   "outputs": [],
   "source": [
    "cub = ...\n",
    "mis = misorientations(cub, rot)"
   ]
  }
 ],
 "metadata": {
  "kernelspec": {
   "display_name": "Python 3 (ipykernel)",
   "language": "python",
   "name": "python3"
  },
  "language_info": {
   "codemirror_mode": {
    "name": "ipython",
    "version": 3
   },
   "file_extension": ".py",
   "mimetype": "text/x-python",
   "name": "python",
   "nbconvert_exporter": "python",
   "pygments_lexer": "ipython3",
   "version": "3.9.13"
  }
 },
 "nbformat": 4,
 "nbformat_minor": 5
}
